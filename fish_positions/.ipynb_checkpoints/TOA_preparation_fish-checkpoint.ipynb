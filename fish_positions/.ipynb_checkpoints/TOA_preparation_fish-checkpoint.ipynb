{
 "cells": [
  {
   "cell_type": "markdown",
   "metadata": {
    "toc": "true"
   },
   "source": [
    "# Table of Contents\n",
    " <p><div class=\"lev1 toc-item\"><a href=\"#Imports-and-readins\" data-toc-modified-id=\"Imports-and-readins-1\"><span class=\"toc-item-num\">1&nbsp;&nbsp;</span>Imports and readins</a></div><div class=\"lev1 toc-item\"><a href=\"#All-in-loop\" data-toc-modified-id=\"All-in-loop-2\"><span class=\"toc-item-num\">2&nbsp;&nbsp;</span>All in loop</a></div>"
   ]
  },
  {
   "cell_type": "markdown",
   "metadata": {},
   "source": [
    "# Imports and readins"
   ]
  },
  {
   "cell_type": "code",
   "execution_count": 1,
   "metadata": {
    "ExecuteTime": {
     "end_time": "2019-10-30T07:00:29.889564Z",
     "start_time": "2019-10-30T07:00:27.586746Z"
    }
   },
   "outputs": [],
   "source": [
    "import numpy as np\n",
    "import pandas as pd\n",
    "import glob\n",
    "%matplotlib notebook\n",
    "import matplotlib.pyplot as plt\n",
    "\n",
    "import sys\n",
    "sys.path.insert(0, \"/Users/jennavergeynst/OneDrive - UGent/Sharing_code/prepare_toa_for_yaps/\")\n",
    "sys.path.insert(0, \"/Users/jennavergeynst/OneDrive - UGent/Ham/functions\")\n",
    "from paths import *\n",
    "from config_all import *\n",
    "\n",
    "from Prepare_toa_data import *"
   ]
  },
  {
   "cell_type": "code",
   "execution_count": 2,
   "metadata": {
    "ExecuteTime": {
     "end_time": "2019-10-30T07:00:29.901920Z",
     "start_time": "2019-10-30T07:00:29.891744Z"
    }
   },
   "outputs": [],
   "source": [
    "# Take fish of which there are also VPS positions\n",
    "# In first deployment only eels!\n",
    "FISH_01 = {ID for ID in FISH_01 if ID.startswith('26')==False}\n",
    "EEL_02 = {ID for ID in EEL_02 if ID.startswith('26')==False} # drop non-VPS-IDs\n",
    "EEL_03 = {ID for ID in EEL_03 if ID.startswith('26')==False} # drop non-VPS-IDs ## rbi 17-35\n",
    "\n",
    "SALMON_02_burst1 = {ID for ID in SALMON_02 if ID.startswith('345')} # rbi 15-30\n",
    "SALMON_02_burst2 = {ID for ID in SALMON_02 if ID.startswith('344')} # rbi 40-80"
   ]
  },
  {
   "cell_type": "code",
   "execution_count": 3,
   "metadata": {
    "ExecuteTime": {
     "end_time": "2019-10-30T07:00:38.794521Z",
     "start_time": "2019-10-30T07:00:33.514449Z"
    }
   },
   "outputs": [],
   "source": [
    "# read in temperature data (usually with pd.read_csv)\n",
    "temperature = pd.read_pickle(ABIOTICS_PATH+'all_watertemp_data.pkl')\n",
    "temperature.index = temperature.index.tz_localize(None) # make tz-naive\n",
    "temperature = temperature.reset_index()\n",
    "\n",
    "# read in synchronised detection data of all receivers (usually with pd.read_csv)\n",
    "#recs_df = pd.read_pickle(INTERIM+'receiverlogs_sync_03.pkl')\n",
    "recs_df = pd.read_pickle(project_folder+'all_fish/data/positions_synced_03/receiverlogs_official_sync_03.pkl')\n",
    "recs_df = recs_df.reset_index().rename(columns={'level_0':'rec_name'}).drop(columns='level_1')\n",
    "\n",
    "# get list of possible receiver names\n",
    "hydros = pd.read_csv('Receiver_location.csv')\n",
    "rec_list = list(hydros.station_name)\n"
   ]
  },
  {
   "cell_type": "code",
   "execution_count": 26,
   "metadata": {
    "ExecuteTime": {
     "end_time": "2019-10-30T08:57:49.879415Z",
     "start_time": "2019-10-30T08:57:49.873589Z"
    }
   },
   "outputs": [],
   "source": [
    "## Salmon 3rd dep: 15-30\n",
    "## Eels 3rd dep: 17-35\n",
    "min_burst = 60\n",
    "max_burst = 120\n",
    "fill_gaps = True # put on true if you want to fill the gaps\n",
    "dep = '3b'\n",
    "TOA_data_path = 'Deployment'+ dep+'/TOA_data_cleaned/'\n",
    "TOA_fig_path = 'Deployment'+ dep+'/TOA_cleaning_figures/'"
   ]
  },
  {
   "cell_type": "code",
   "execution_count": 5,
   "metadata": {
    "ExecuteTime": {
     "end_time": "2019-10-30T07:00:57.451800Z",
     "start_time": "2019-10-30T07:00:55.329030Z"
    }
   },
   "outputs": [],
   "source": [
    "## FOR 3rd DEPLOYMENT ONLY\n",
    "recs_dfA = recs_df[(recs_df.synced_time<'2017-04-05  08:47')].sort_values(by='Time')\n",
    "recs_dfB = recs_df[(recs_df.synced_time>'2017-04-05  08:47')].sort_values(by='Time')\n",
    "recs_dfB.loc[recs_df.rec_name=='ST08','rec_name']='ST08-2'"
   ]
  },
  {
   "cell_type": "code",
   "execution_count": null,
   "metadata": {
    "ExecuteTime": {
     "end_time": "2019-10-04T13:30:33.423130Z",
     "start_time": "2019-10-04T13:30:33.238848Z"
    }
   },
   "outputs": [],
   "source": [
    "# ID = '100'\n",
    "# take part of the dataframe that only contains detections of one tag\n",
    "# tag_data = recs_df[recs_df.ID == ID].copy()"
   ]
  },
  {
   "cell_type": "markdown",
   "metadata": {},
   "source": [
    "# All in loop"
   ]
  },
  {
   "cell_type": "code",
   "execution_count": 27,
   "metadata": {
    "ExecuteTime": {
     "end_time": "2019-10-30T08:57:53.667653Z",
     "start_time": "2019-10-30T08:57:53.662066Z"
    }
   },
   "outputs": [
    {
     "data": {
      "text/plain": [
       "'Deployment3b/TOA_data_cleaned/'"
      ]
     },
     "execution_count": 27,
     "metadata": {},
     "output_type": "execute_result"
    }
   ],
   "source": [
    "TOA_data_path"
   ]
  },
  {
   "cell_type": "code",
   "execution_count": 28,
   "metadata": {
    "ExecuteTime": {
     "end_time": "2019-10-30T08:58:01.805005Z",
     "start_time": "2019-10-30T08:58:00.650492Z"
    }
   },
   "outputs": [],
   "source": [
    "for ID in sorted(['47313']):\n",
    "    tag_data = recs_dfB[recs_dfB.ID == ID].copy()\n",
    "    if tag_data.empty==False:\n",
    "        # If the below gives an error and filled_toa is empty => decrease min_track_length\n",
    "        rec_cols, toa_data, cleaned_toa_data, filled_toa, final_toa = create_final_toa(tag_data=tag_data, max_time=1, min_burst=min_burst, max_burst=max_burst,\n",
    "                                                                                       time_col='synced_time', rec_col='rec_name', rec_list=rec_list,\n",
    "                                                                                       temp=temperature, temp_time_col='DATETIME', temp_temp_col='Temp',\n",
    "                                                                                       pas_tol=30, min_track_length=5)\n",
    "        if bool(final_toa)!=False: # will have no data if full cleaning did not work\n",
    "        # The resulting dataframe can be used as input for yaps\n",
    "            if fill_gaps==True:\n",
    "                final_toa_df = pd.concat(final_toa).set_index('groups_pas').drop(columns='groups_obs').reset_index()\n",
    "                final_toa_df.to_csv(TOA_data_path+'TOA_data_'+str(ID)+'.csv', index=False)\n",
    "            else:\n",
    "            #     cleaned_toa_data = cleaned_toa_data.drop(columns='ST07')\n",
    "            #     cleaned_toa_data = cleaned_toa_data.dropna(how='all', subset=['ST08', 'ST09', 'ST10', 'ST12', 'ST13', 'ST14', 'ST15',\n",
    "            #        'ST16', 'ST17', 'ST18', 'ST18-2'])\n",
    "                cleaned_toa_data.to_csv(TOA_data_path+'TOA_data_'+str(ID)+'.csv', index=False)\n",
    "\n",
    "            # Check visually the evolution in the different steps. In the final_toa,\n",
    "            # the time differences between 2 lines of the dataframe should be within min and max burst\n",
    "            create_plots(ID=ID, min_burst=min_burst, max_burst=max_burst, rec_cols=rec_cols, toa_data=toa_data,\n",
    "                         cleaned_toa_data=cleaned_toa_data, filled_toa=filled_toa, final_toa=final_toa,\n",
    "                         write_path=TOA_fig_path, time_col='synced_time', plot='off')\n"
   ]
  },
  {
   "cell_type": "code",
   "execution_count": null,
   "metadata": {},
   "outputs": [],
   "source": []
  }
 ],
 "metadata": {
  "kernelspec": {
   "display_name": "Python 3",
   "language": "python",
   "name": "python3"
  },
  "language_info": {
   "codemirror_mode": {
    "name": "ipython",
    "version": 3
   },
   "file_extension": ".py",
   "mimetype": "text/x-python",
   "name": "python",
   "nbconvert_exporter": "python",
   "pygments_lexer": "ipython3",
   "version": "3.7.3"
  },
  "nav_menu": {},
  "toc": {
   "navigate_menu": true,
   "number_sections": true,
   "sideBar": true,
   "threshold": "3",
   "toc_cell": true,
   "toc_section_display": "block",
   "toc_window_display": true
  }
 },
 "nbformat": 4,
 "nbformat_minor": 2
}
