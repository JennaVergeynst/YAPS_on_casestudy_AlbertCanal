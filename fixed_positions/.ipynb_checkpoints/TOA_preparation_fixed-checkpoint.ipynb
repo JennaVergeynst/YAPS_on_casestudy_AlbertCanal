{
 "cells": [
  {
   "cell_type": "markdown",
   "metadata": {
    "toc": "true"
   },
   "source": [
    "# Table of Contents\n",
    " <p><div class=\"lev1 toc-item\"><a href=\"#Imports-and-readins\" data-toc-modified-id=\"Imports-and-readins-1\"><span class=\"toc-item-num\">1&nbsp;&nbsp;</span>Imports and readins</a></div><div class=\"lev1 toc-item\"><a href=\"#Control-each-step\" data-toc-modified-id=\"Control-each-step-2\"><span class=\"toc-item-num\">2&nbsp;&nbsp;</span>Control each step</a></div><div class=\"lev1 toc-item\"><a href=\"#Plot-steps\" data-toc-modified-id=\"Plot-steps-3\"><span class=\"toc-item-num\">3&nbsp;&nbsp;</span>Plot steps</a></div><div class=\"lev1 toc-item\"><a href=\"#All-in-one-step\" data-toc-modified-id=\"All-in-one-step-4\"><span class=\"toc-item-num\">4&nbsp;&nbsp;</span>All in one step</a></div><div class=\"lev1 toc-item\"><a href=\"#All-in-loop\" data-toc-modified-id=\"All-in-loop-5\"><span class=\"toc-item-num\">5&nbsp;&nbsp;</span>All in loop</a></div>"
   ]
  },
  {
   "cell_type": "markdown",
   "metadata": {},
   "source": [
    "# Imports and readins"
   ]
  },
  {
   "cell_type": "code",
   "execution_count": 1,
   "metadata": {
    "ExecuteTime": {
     "end_time": "2019-10-14T10:48:52.764872Z",
     "start_time": "2019-10-14T10:48:51.991011Z"
    }
   },
   "outputs": [],
   "source": [
    "import numpy as np\n",
    "import pandas as pd\n",
    "import glob\n",
    "%matplotlib notebook\n",
    "import matplotlib.pyplot as plt\n",
    "\n",
    "import sys\n",
    "sys.path.insert(0, \"/Users/jennavergeynst/OneDrive - UGent/Sharing_code/prepare_toa_for_yaps/\")\n",
    "sys.path.insert(0, \"/Users/jennavergeynst/OneDrive - UGent/Ham/functions\")\n",
    "from paths import *\n",
    "\n",
    "from Prepare_toa_data import *"
   ]
  },
  {
   "cell_type": "code",
   "execution_count": 2,
   "metadata": {
    "ExecuteTime": {
     "end_time": "2019-10-14T10:48:56.900457Z",
     "start_time": "2019-10-14T10:48:52.769654Z"
    }
   },
   "outputs": [],
   "source": [
    "# read in temperature data (usually with pd.read_csv)\n",
    "temperature = pd.read_pickle(ABIOTICS_PATH+'all_watertemp_data.pkl')\n",
    "temperature.index = temperature.index.tz_localize(None) # make tz-naive\n",
    "temperature = temperature.reset_index()\n",
    "\n",
    "# read in synchronised detection data of all receivers (usually with pd.read_csv)\n",
    "#recs_df = pd.read_pickle(INTERIM+'receiverlogs_sync_03.pkl')\n",
    "recs_df = pd.read_pickle(project_folder+'all_fish/data/positions_synced_03/receiverlogs_official_sync_03.pkl')\n",
    "recs_df = recs_df.reset_index().rename(columns={'level_0':'rec_name'}).drop(columns='level_1')\n",
    "\n",
    "# get list of possible receiver names\n",
    "hydros = pd.read_csv('Receiver_location.csv')\n",
    "rec_list = list(hydros.station_name)\n"
   ]
  },
  {
   "cell_type": "code",
   "execution_count": 3,
   "metadata": {
    "ExecuteTime": {
     "end_time": "2019-10-14T10:48:59.165667Z",
     "start_time": "2019-10-14T10:48:56.906230Z"
    },
    "scrolled": true
   },
   "outputs": [],
   "source": [
    "## FOR 3rd DEPLOYMENT ONLY\n",
    "recs_dfA = recs_df[(recs_df.synced_time<'2017-04-05  08:47')].sort_values(by='synced_time')\n",
    "recs_dfB = recs_df[(recs_df.synced_time>'2017-04-05  08:47')].sort_values(by='synced_time')\n",
    "recs_dfB.loc[recs_df.rec_name=='ST08','rec_name']='ST08-2'"
   ]
  },
  {
   "cell_type": "code",
   "execution_count": 4,
   "metadata": {
    "ExecuteTime": {
     "end_time": "2019-10-14T10:48:59.174323Z",
     "start_time": "2019-10-14T10:48:59.167694Z"
    }
   },
   "outputs": [],
   "source": [
    "min_burst = 540\n",
    "max_burst = 660\n",
    "fill_the_gaps = True # put on true if you want to fill the gaps\n",
    "dep = 'D3b'\n",
    "TOA_data_path = 'TOA_data_cleaned_'+dep+'/'\n",
    "TOA_fig_path = 'TOA_cleaning_figures_'+dep+'/'"
   ]
  },
  {
   "cell_type": "code",
   "execution_count": 5,
   "metadata": {
    "ExecuteTime": {
     "end_time": "2019-10-14T10:48:59.215171Z",
     "start_time": "2019-10-14T10:48:59.177296Z"
    }
   },
   "outputs": [],
   "source": [
    "# ID = '65040'\n",
    "# self_receiver = 'ST07'\n",
    "# # take part of the dataframe that only contains detections of one tag\n",
    "# tag_data = recs_dfB[recs_dfB.ID == ID].copy()"
   ]
  },
  {
   "cell_type": "markdown",
   "metadata": {
    "heading_collapsed": true
   },
   "source": [
    "# Control each step"
   ]
  },
  {
   "cell_type": "code",
   "execution_count": 6,
   "metadata": {
    "ExecuteTime": {
     "end_time": "2019-10-14T10:48:59.230437Z",
     "start_time": "2019-10-14T10:48:59.219201Z"
    },
    "hidden": true
   },
   "outputs": [],
   "source": [
    "time_col='synced_time'\n",
    "temp_time_col='DATETIME'\n",
    "temp_temp_col='Temp'\n",
    "temp = temperature\n",
    "pas_tol = 60\n",
    "rec_col = 'rec_name'\n",
    "max_time = 1\n",
    "min_track_length = 10"
   ]
  },
  {
   "cell_type": "code",
   "execution_count": 7,
   "metadata": {
    "ExecuteTime": {
     "end_time": "2019-10-14T10:48:59.837506Z",
     "start_time": "2019-10-14T10:48:59.720232Z"
    },
    "hidden": true
   },
   "outputs": [],
   "source": [
    "mean_burst = str(np.mean((min_burst,max_burst)).round(1))+'s'\n",
    "tag_data = tag_data.sort_values(by=time_col).reset_index(drop=True)\n",
    "tag_data = add_soundspeed(tag_data=tag_data, time_col=time_col, temp=temp,\n",
    "                          temp_time_col=temp_time_col, temp_temp_col=temp_temp_col)"
   ]
  },
  {
   "cell_type": "code",
   "execution_count": 8,
   "metadata": {
    "ExecuteTime": {
     "end_time": "2019-10-14T10:49:01.951503Z",
     "start_time": "2019-10-14T10:49:01.808824Z"
    },
    "hidden": true
   },
   "outputs": [],
   "source": [
    "# pas_tol = 5: cut track when a fish is not heard during 5 minutes. Don't make this too small\n",
    "toa_data = prepare_tag_data(tag_data, time_col=time_col, rec_col=rec_col, max_time=max_time, pas_tol=pas_tol).reset_index()\n",
    "rec_cols = [x for x in toa_data.columns if x in rec_list]"
   ]
  },
  {
   "cell_type": "code",
   "execution_count": 10,
   "metadata": {
    "ExecuteTime": {
     "end_time": "2019-10-14T10:49:14.297666Z",
     "start_time": "2019-10-14T10:49:14.292313Z"
    },
    "hidden": true
   },
   "outputs": [
    {
     "data": {
      "text/plain": [
       "['ST07',\n",
       " 'ST08-2',\n",
       " 'ST09-2',\n",
       " 'ST10',\n",
       " 'ST12',\n",
       " 'ST13',\n",
       " 'ST14',\n",
       " 'ST15',\n",
       " 'ST16',\n",
       " 'ST17',\n",
       " 'ST18',\n",
       " 'ST18-2']"
      ]
     },
     "execution_count": 10,
     "metadata": {},
     "output_type": "execute_result"
    }
   ],
   "source": [
    "rec_cols"
   ]
  },
  {
   "cell_type": "code",
   "execution_count": 11,
   "metadata": {
    "ExecuteTime": {
     "end_time": "2019-10-14T10:49:16.591707Z",
     "start_time": "2019-10-14T10:49:16.554146Z"
    },
    "hidden": true
   },
   "outputs": [],
   "source": [
    "# clean observations that follow eachother faster than the minimum known time delay (allow 10% lower than min)\n",
    "cleaned_toa_data = clean_toa_data(toa_data,min_delay=0.9*min_burst, rec_cols=rec_cols)"
   ]
  },
  {
   "cell_type": "code",
   "execution_count": 12,
   "metadata": {
    "ExecuteTime": {
     "end_time": "2019-10-14T10:49:18.750650Z",
     "start_time": "2019-10-14T10:49:18.438015Z"
    },
    "hidden": true
   },
   "outputs": [],
   "source": [
    "# fill the gaps of pings that were not observed\n",
    "toa_data_groups = cleaned_toa_data.groupby(by='groups_pas')\n",
    "filled_toa = {}\n",
    "for group_key in toa_data_groups.groups.keys():\n",
    "    toa_part = toa_data_groups.get_group(group_key).copy()\n",
    "    # only consider a track if it is more than 2 minutes long (120 seconds). Too short tracks will bug YAPS.\n",
    "    if len(toa_part)>min_track_length:\n",
    "        result = fill_gaps(toa_part, rec_cols, time_col=time_col, mean_burst=mean_burst)\n",
    "        filled_toa[group_key] = result\n",
    "\n",
    "\n",
    "# Some burst intervals are still double of max interval,\n",
    "# probably due to use of virtual pings and incorrect alignment with real pings.\n",
    "# Remove the pings creating these intervals\n",
    "for key in filled_toa.keys():\n",
    "    # allow interval to be 10% more than max_burst\n",
    "    errors = filled_toa[key][filled_toa[key].loc[:,rec_cols].mean(axis=1).diff()>1.1*max_burst]\n",
    "    filled_toa[key].drop(index=errors.index, inplace=True)"
   ]
  },
  {
   "cell_type": "code",
   "execution_count": 13,
   "metadata": {
    "ExecuteTime": {
     "end_time": "2019-10-14T10:49:20.538090Z",
     "start_time": "2019-10-14T10:49:20.403313Z"
    },
    "hidden": true
   },
   "outputs": [],
   "source": [
    "# This creates again gaps in the data, so repeat the gaps filling\n",
    "final_toa = {}\n",
    "for group_key in filled_toa.keys():\n",
    "    toa_part = filled_toa[group_key].copy()\n",
    "    # only consider a track if it is more than min_track_length long. Too short tracks will bug YAPS.\n",
    "    if len(toa_part)>min_track_length:\n",
    "        result = fill_gaps(toa_part, rec_cols, time_col=time_col, mean_burst=mean_burst)\n",
    "        final_toa[group_key] = result\n",
    "final_toa_df = pd.concat(final_toa).set_index('groups_pas').drop(columns='groups_obs')\n"
   ]
  },
  {
   "cell_type": "code",
   "execution_count": 14,
   "metadata": {
    "ExecuteTime": {
     "end_time": "2019-10-14T10:49:27.268414Z",
     "start_time": "2019-10-14T10:49:27.253491Z"
    },
    "hidden": true
   },
   "outputs": [
    {
     "data": {
      "text/plain": [
       "count    6526.000000\n",
       "mean      603.913783\n",
       "std        34.293539\n",
       "min       543.682461\n",
       "25%       574.928030\n",
       "50%       603.968044\n",
       "75%       633.298664\n",
       "max       664.564649\n",
       "dtype: float64"
      ]
     },
     "execution_count": 14,
     "metadata": {},
     "output_type": "execute_result"
    }
   ],
   "source": [
    "final_toa[0][['ST07', 'ST08-2', 'ST09-2', 'ST10', 'ST12', 'ST13', 'ST14',\n",
    "       'ST15', 'ST16', 'ST17', 'ST18', 'ST18-2']].mean(axis=1).diff().describe()"
   ]
  },
  {
   "cell_type": "markdown",
   "metadata": {
    "heading_collapsed": true
   },
   "source": [
    "# Plot steps"
   ]
  },
  {
   "cell_type": "code",
   "execution_count": null,
   "metadata": {
    "ExecuteTime": {
     "end_time": "2019-10-14T10:39:40.585229Z",
     "start_time": "2019-10-14T10:39:40.430561Z"
    },
    "hidden": true
   },
   "outputs": [],
   "source": [
    "plt.ion()"
   ]
  },
  {
   "cell_type": "code",
   "execution_count": null,
   "metadata": {
    "ExecuteTime": {
     "end_time": "2019-10-14T10:42:26.073730Z",
     "start_time": "2019-10-14T10:42:25.863265Z"
    },
    "hidden": true
   },
   "outputs": [],
   "source": [
    "fig,ax = plt.subplots()\n",
    "dif = toa_data.loc[:,rec_cols].mean(axis=1).diff()\n",
    "ax.plot(toa_data[time_col], dif, alpha=0.3, lw=0, marker='.')\n",
    "fig.autofmt_xdate()\n",
    "ax.set_ylim(-5,5*max_burst)\n",
    "ax.plot(ax.get_xbound(),(min_burst, min_burst), c='red')\n",
    "ax.plot(ax.get_xbound(),(max_burst, max_burst), c='red')\n",
    "ax.set_title('Burst intervals fish '+str(ID)+' without cleaning')\n",
    "# should remove intervals below min interval\n",
    "#fig.savefig(write_path+'1_uncleaned_'+str(ID)+'.png')"
   ]
  },
  {
   "cell_type": "code",
   "execution_count": null,
   "metadata": {
    "ExecuteTime": {
     "end_time": "2019-10-14T10:42:29.427495Z",
     "start_time": "2019-10-14T10:42:29.359462Z"
    },
    "hidden": true
   },
   "outputs": [],
   "source": [
    "fig,ax = plt.subplots()\n",
    "dif = cleaned_toa_data.loc[:,rec_cols].mean(axis=1).diff()\n",
    "ax.plot(cleaned_toa_data[time_col], dif, alpha=0.3, lw=0, marker='.')\n",
    "fig.autofmt_xdate()\n",
    "ax.set_ylim(-5,5*max_burst)\n",
    "ax.plot(ax.get_xbound(),(min_burst, min_burst), c='red')\n",
    "ax.plot(ax.get_xbound(),(max_burst, max_burst), c='red')\n",
    "ax.set_title('Burst intervals fish '+str(ID)+' after first clean-up of too-close rows')\n",
    "# should remove intervals below min interval\n",
    "#fig.savefig(write_path+'2_cleaned_'+str(ID)+'.png')"
   ]
  },
  {
   "cell_type": "code",
   "execution_count": null,
   "metadata": {
    "ExecuteTime": {
     "end_time": "2019-10-14T10:44:15.411794Z",
     "start_time": "2019-10-14T10:44:15.225652Z"
    },
    "hidden": true
   },
   "outputs": [],
   "source": [
    "fig,ax = plt.subplots()\n",
    "for key in filled_toa.keys():\n",
    "    filled_toa[key]['diff'] = filled_toa[key].loc[:,rec_cols].mean(axis=1).diff()\n",
    "filled_toa_df = pd.concat(filled_toa).reset_index(drop=True)\n",
    "ax.plot(filled_toa_df[time_col], filled_toa_df['diff'], alpha=0.3, lw=0, marker='.')\n",
    "fig.autofmt_xdate()\n",
    "ax.set_ylim(0,5*max_burst)\n",
    "ax.plot(ax.get_xbound(),(min_burst, min_burst), c='red')\n",
    "ax.plot(ax.get_xbound(),(max_burst, max_burst), c='red')\n",
    "ax.set_title('Burst intervals fish '+str(ID)+ ' after filling of gaps')\n",
    "# should remove major part of intervals above max interval\n",
    "#fig.savefig(write_path+'3_gap_filled_'+str(ID)+'.png')"
   ]
  },
  {
   "cell_type": "code",
   "execution_count": null,
   "metadata": {
    "ExecuteTime": {
     "end_time": "2019-10-14T10:42:33.802240Z",
     "start_time": "2019-10-14T10:42:33.718469Z"
    },
    "hidden": true
   },
   "outputs": [],
   "source": [
    "fig,ax = plt.subplots()\n",
    "for key in final_toa.keys():\n",
    "    final_toa[key]['diff'] = final_toa[key].loc[:,rec_cols].mean(axis=1).diff()\n",
    "final_toa_df = pd.concat(final_toa).reset_index(drop=True)\n",
    "ax.plot(final_toa_df[time_col], final_toa_df['diff'], alpha=0.3, lw=0, marker='.')\n",
    "fig.autofmt_xdate()\n",
    "#ax.set_ylim(0,5*max_burst)\n",
    "ax.plot(ax.get_xbound(),(min_burst, min_burst), c='red')\n",
    "ax.plot(ax.get_xbound(),(max_burst, max_burst), c='red')\n",
    "ax.set_title('Burst intervals fish '+str(ID)+ ' after second round of gap filling')\n",
    "# Now all pings should be between min and max\n",
    "#fig.savefig(write_path+'4_final_'+str(ID)+'.png')"
   ]
  },
  {
   "cell_type": "markdown",
   "metadata": {
    "heading_collapsed": true
   },
   "source": [
    "# All in one step"
   ]
  },
  {
   "cell_type": "code",
   "execution_count": null,
   "metadata": {
    "ExecuteTime": {
     "end_time": "2019-10-04T06:32:57.172993Z",
     "start_time": "2019-10-04T06:32:55.417778Z"
    },
    "hidden": true
   },
   "outputs": [],
   "source": [
    "# If the below gives an error and filled_toa is empty => decrease min_track_length\n",
    "rec_cols, toa_data, cleaned_toa_data, filled_toa, final_toa = create_final_toa(tag_data=tag_data, max_time=1, min_burst=min_burst, max_burst=max_burst,\n",
    "                                                                               time_col='synced_time', rec_col='rec_name', rec_list=rec_list,\n",
    "                                                                               temp=temperature, temp_time_col='DATETIME', temp_temp_col='Temp',\n",
    "                                                                               pas_tol=60, min_track_length=10)\n",
    "\n",
    "# The resulting dataframe can be used as input for yaps\n",
    "if fill_gaps==True:\n",
    "    final_toa_df = pd.concat(final_toa).set_index('groups_pas').drop(columns='groups_obs').reset_index()\n",
    "    final_toa_df.to_csv(TOA_data_path+'TOA_data_'+str(ID)+'.csv', index=False)\n",
    "else:\n",
    "#     cleaned_toa_data = cleaned_toa_data.drop(columns='ST07')\n",
    "#     cleaned_toa_data = cleaned_toa_data.dropna(how='all', subset=['ST08', 'ST09', 'ST10', 'ST12', 'ST13', 'ST14', 'ST15',\n",
    "#        'ST16', 'ST17', 'ST18', 'ST18-2'])\n",
    "    cleaned_toa_data.to_csv(TOA_data_path+'TOA_data_'+str(ID)+'.csv', index=False)\n",
    "\n",
    "# Check visually the evolution in the different steps. In the final_toa,\n",
    "# the time differences between 2 lines of the dataframe should be within min and max burst\n",
    "create_plots(ID=ID, min_burst=min_burst, max_burst=max_burst, rec_cols=rec_cols, toa_data=toa_data,\n",
    "             cleaned_toa_data=cleaned_toa_data, filled_toa=filled_toa, final_toa=final_toa,\n",
    "             write_path=TOA_fig_path, time_col='synced_time', plot='off')\n"
   ]
  },
  {
   "cell_type": "markdown",
   "metadata": {},
   "source": [
    "# All in loop"
   ]
  },
  {
   "cell_type": "code",
   "execution_count": 15,
   "metadata": {
    "ExecuteTime": {
     "end_time": "2019-10-14T10:49:47.611545Z",
     "start_time": "2019-10-14T10:49:47.599763Z"
    }
   },
   "outputs": [],
   "source": [
    "receiver_table = pd.read_csv('Receiver_and_system_info.csv')\n",
    "fixed = receiver_table[(receiver_table.Device=='sync')|(receiver_table.Device=='ref')].copy()\n",
    "fixed['ID'] = fixed['Full-ID'].apply(lambda s: s.split('-')[2])"
   ]
  },
  {
   "cell_type": "code",
   "execution_count": null,
   "metadata": {
    "ExecuteTime": {
     "end_time": "2019-10-09T07:56:18.298280Z",
     "start_time": "2019-10-09T07:56:18.294637Z"
    }
   },
   "outputs": [],
   "source": [
    "# sync = receiver_table[receiver_table.Device=='sync'].copy()\n",
    "# sync['station_name'] = sync.Name.apply(lambda name: 'ST'+ str(name[1:]))\n",
    "# sync.station_name = sync.station_name.replace({'ST8':'ST08', 'ST7':'ST07', 'ST8-2':'ST08-2','ST9-2':'ST09-2'})\n",
    "# sync['ID'] = sync['Full-ID'].apply(lambda s: s.split('-')[2])\n",
    "# sync[['station_name','ID']].to_csv('sync_self.csv')"
   ]
  },
  {
   "cell_type": "code",
   "execution_count": null,
   "metadata": {
    "ExecuteTime": {
     "end_time": "2019-10-14T09:41:06.499910Z",
     "start_time": "2019-10-14T09:41:06.493784Z"
    }
   },
   "outputs": [],
   "source": [
    "sorted(fixed.ID.unique())"
   ]
  },
  {
   "cell_type": "code",
   "execution_count": 16,
   "metadata": {
    "ExecuteTime": {
     "end_time": "2019-10-14T10:50:16.683336Z",
     "start_time": "2019-10-14T10:49:54.398047Z"
    },
    "scrolled": true
   },
   "outputs": [
    {
     "name": "stderr",
     "output_type": "stream",
     "text": [
      "/Applications/miniconda3/envs/small_mid_paper/lib/python3.7/site-packages/pandas/plotting/_matplotlib/converter.py:103: FutureWarning: Using an implicitly registered datetime converter for a matplotlib plotting method. The converter was registered by pandas on import. Future versions of pandas will require you to explicitly register matplotlib converters.\n",
      "\n",
      "To register the converters:\n",
      "\t>>> from pandas.plotting import register_matplotlib_converters\n",
      "\t>>> register_matplotlib_converters()\n",
      "  warnings.warn(msg, FutureWarning)\n",
      "/Users/jennavergeynst/OneDrive - UGent/Sharing_code/prepare_toa_for_yaps/Prepare_toa_data.py:351: RuntimeWarning: More than 20 figures have been opened. Figures created through the pyplot interface (`matplotlib.pyplot.figure`) are retained until explicitly closed and may consume too much memory. (To control this warning, see the rcParam `figure.max_open_warning`).\n",
      "  fig,ax = plt.subplots()\n",
      "/Users/jennavergeynst/OneDrive - UGent/Sharing_code/prepare_toa_for_yaps/Prepare_toa_data.py:362: RuntimeWarning: More than 20 figures have been opened. Figures created through the pyplot interface (`matplotlib.pyplot.figure`) are retained until explicitly closed and may consume too much memory. (To control this warning, see the rcParam `figure.max_open_warning`).\n",
      "  fig,ax = plt.subplots()\n",
      "/Users/jennavergeynst/OneDrive - UGent/Sharing_code/prepare_toa_for_yaps/Prepare_toa_data.py:373: RuntimeWarning: More than 20 figures have been opened. Figures created through the pyplot interface (`matplotlib.pyplot.figure`) are retained until explicitly closed and may consume too much memory. (To control this warning, see the rcParam `figure.max_open_warning`).\n",
      "  fig,ax = plt.subplots()\n",
      "/Users/jennavergeynst/OneDrive - UGent/Sharing_code/prepare_toa_for_yaps/Prepare_toa_data.py:386: RuntimeWarning: More than 20 figures have been opened. Figures created through the pyplot interface (`matplotlib.pyplot.figure`) are retained until explicitly closed and may consume too much memory. (To control this warning, see the rcParam `figure.max_open_warning`).\n",
      "  fig,ax = plt.subplots()\n"
     ]
    }
   ],
   "source": [
    "for ID in sorted(fixed.ID.unique()):\n",
    "    tag_data = recs_dfB[recs_dfB.ID == ID].copy()\n",
    "    if tag_data.empty==False:\n",
    "        # If the below gives an error and filled_toa is empty => decrease min_track_length\n",
    "        rec_cols, toa_data, cleaned_toa_data, filled_toa, final_toa = create_final_toa(tag_data=tag_data, max_time=1, min_burst=min_burst, max_burst=max_burst,\n",
    "                                                                                       time_col='synced_time', rec_col='rec_name', rec_list=rec_list,\n",
    "                                                                                       temp=temperature, temp_time_col='DATETIME', temp_temp_col='Temp',\n",
    "                                                                                       pas_tol=60, min_track_length=10)\n",
    "\n",
    "        # The resulting dataframe can be used as input for yaps\n",
    "        if fill_the_gaps==True:\n",
    "            final_toa_df = pd.concat(final_toa).set_index('groups_pas').drop(columns='groups_obs').reset_index()\n",
    "            final_toa_df.to_csv(TOA_data_path+'TOA_data_'+str(ID)+'.csv', index=False)\n",
    "        else:\n",
    "        #     cleaned_toa_data = cleaned_toa_data.drop(columns='ST07')\n",
    "        #     cleaned_toa_data = cleaned_toa_data.dropna(how='all', subset=['ST08', 'ST09', 'ST10', 'ST12', 'ST13', 'ST14', 'ST15',\n",
    "        #        'ST16', 'ST17', 'ST18', 'ST18-2'])\n",
    "            cleaned_toa_data.to_csv(TOA_data_path+'TOA_data_'+str(ID)+'.csv', index=False)\n",
    "\n",
    "        # Check visually the evolution in the different steps. In the final_toa,\n",
    "        # the time differences between 2 lines of the dataframe should be within min and max burst\n",
    "        create_plots(ID=ID, min_burst=min_burst, max_burst=max_burst, rec_cols=rec_cols, toa_data=toa_data,\n",
    "                     cleaned_toa_data=cleaned_toa_data, filled_toa=filled_toa, final_toa=final_toa,\n",
    "                     write_path=TOA_fig_path, time_col='synced_time', plot='off')\n"
   ]
  },
  {
   "cell_type": "code",
   "execution_count": null,
   "metadata": {
    "ExecuteTime": {
     "end_time": "2019-10-14T09:40:25.785385Z",
     "start_time": "2019-10-14T09:40:25.721146Z"
    }
   },
   "outputs": [],
   "source": []
  },
  {
   "cell_type": "code",
   "execution_count": null,
   "metadata": {},
   "outputs": [],
   "source": []
  }
 ],
 "metadata": {
  "kernelspec": {
   "display_name": "Python 3",
   "language": "python",
   "name": "python3"
  },
  "language_info": {
   "codemirror_mode": {
    "name": "ipython",
    "version": 3
   },
   "file_extension": ".py",
   "mimetype": "text/x-python",
   "name": "python",
   "nbconvert_exporter": "python",
   "pygments_lexer": "ipython3",
   "version": "3.7.3"
  },
  "nav_menu": {},
  "toc": {
   "navigate_menu": true,
   "number_sections": true,
   "sideBar": true,
   "threshold": "3",
   "toc_cell": true,
   "toc_section_display": "block",
   "toc_window_display": true
  }
 },
 "nbformat": 4,
 "nbformat_minor": 2
}
